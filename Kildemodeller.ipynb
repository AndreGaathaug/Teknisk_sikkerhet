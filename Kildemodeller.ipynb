{
 "cells": [
  {
   "cell_type": "markdown",
   "metadata": {},
   "source": [
    "#Hva er kildemodeller\n",
    "\n",
    "Det er ligninger vi kan benytte til å beregne hvor mye væske eller gass som slippes ut fra en beholder, rør eller lignende. En korrekt valgt kildemodell er viktig for å få en korrekt massestrøm til å beskrive hvordan for eksempel konsentrasjonen av et giftig stoff øker i et rom."
   ]
  }
 ],
 "metadata": {
  "anaconda-cloud": {},
  "kernelspec": {
   "display_name": "Python [Root]",
   "language": "python",
   "name": "Python [Root]"
  },
  "language_info": {
   "codemirror_mode": {
    "name": "ipython",
    "version": 3
   },
   "file_extension": ".py",
   "mimetype": "text/x-python",
   "name": "python",
   "nbconvert_exporter": "python",
   "pygments_lexer": "ipython3",
   "version": "3.5.2"
  }
 },
 "nbformat": 4,
 "nbformat_minor": 0
}
