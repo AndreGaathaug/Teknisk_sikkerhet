{
 "cells": [
  {
   "cell_type": "markdown",
   "metadata": {},
   "source": [
    "# Hva er kildemodeller\n",
    "\n",
    "Det er ligninger vi kan benytte til å beregne hvor mye væske eller gass som slippes ut fra en beholder, rør eller lignende. En korrekt valgt kildemodell er viktig for å få en korrekt massestrøm til å beskrive hvordan for eksempel konsentrasjonen av et giftig stoff øker i et rom. Det er også viktig for å beregne om det kan bli en brennbar atmosfære.\n",
    "<bt>\n",
    "## Industri og ulykker\n",
    "Ulykker starter gjerne med en hendelse, som igjen fører til at man får et utlsipp av et stoff. Det kan være giftig eller brennbart. Typiske hendelser er rørbrudd, hull i tank eller rør, uønskede kjemiske reaksjoner eller en ekstern brann. Når vi kjenner hendelsen så kan vi velge en riktig kildemodell for å beskrive en lekasje.\n",
    "<bt>\n",
    "En kildemodell beskriver massestrømmen, eller raten (rate betyr per tid). Den beskriver også den totale massen som er sluppet ut (eller den totale tiden, så blir den totale massen integalet av raten over tiden). En kildemodell må også velges slik at den beskriver riktig type fluid (gass, væske eller fast stoff).\n",
    "<bt>\n",
    "En spredningsmodell benyttes gjerne i etterkant til å beskrive hvordan et stoff spres etter at det er sluppet ut. Videre vil vi kunne bruke brann og eksplosjonsmodeller til å beskrive hvordan brennbare stoffer reagerer. Og til slutt vi en dose (trykk, stråling, impuls, konsentrasjon*tid) beskrive konsekvensen av en ulykke."
   ]
  },
  {
   "cell_type": "code",
   "execution_count": null,
   "metadata": {},
   "outputs": [],
   "source": []
  }
 ],
 "metadata": {
  "anaconda-cloud": {},
  "kernelspec": {
   "display_name": "Python 3",
   "language": "python",
   "name": "python3"
  },
  "language_info": {
   "codemirror_mode": {
    "name": "ipython",
    "version": 3
   },
   "file_extension": ".py",
   "mimetype": "text/x-python",
   "name": "python",
   "nbconvert_exporter": "python",
   "pygments_lexer": "ipython3",
   "version": "3.6.4"
  }
 },
 "nbformat": 4,
 "nbformat_minor": 1
}
