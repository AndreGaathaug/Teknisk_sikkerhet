{
 "cells": [
  {
   "cell_type": "markdown",
   "metadata": {},
   "source": [
    "# Dose versus respons\n",
    "\n",
    "Alle reagerer forskjellig på den samme dosen toksin. Tenk deg at klassen din har linjefest og alle får tre drikkebonger hver. Når festen er ferdig har studentene respondert forskjellig på den samme dosen toksin. Hvis det er mange nok studenter i klassen så kan vi forvente at responsen er normal-fordelt.\n",
    "\n",
    "Det kan fremstilles på følgende måte"
   ]
  },
  {
   "cell_type": "markdown",
   "metadata": {},
   "source": [
    "\\begin{align}\n",
    "f(x) = \\frac{1}{\\sigma \\sqrt{2 \\pi}}e^{-\\frac{1}{2} \\left( \\frac{x-\\mu}{\\sigma} \\right)^{2}}\n",
    "\\end{align}"
   ]
  },
  {
   "cell_type": "markdown",
   "metadata": {},
   "source": [
    "I dette tilfellet er f(x) sansynligheten for en gitt respons\n",
    "<br>\n",
    "x er responsen \n",
    "<br>\n",
    "$\\sigma$ er standard avviket\n",
    "<br>\n",
    "$\\mu$ er middelverdien"
   ]
  },
  {
   "cell_type": "code",
   "execution_count": 1,
   "metadata": {
    "collapsed": false
   },
   "outputs": [
    {
     "data": {
      "text/plain": [
       "<matplotlib.text.Text at 0x182f290d278>"
      ]
     },
     "execution_count": 1,
     "metadata": {},
     "output_type": "execute_result"
    },
    {
     "data": {
      "image/png": "[encoded data removed]",
      "text/plain": [
       "<matplotlib.figure.Figure at 0x182f06dd2b0>"
      ]
     },
     "metadata": {},
     "output_type": "display_data"
    }
   ],
   "source": [
    "import numpy as np\n",
    "import math\n",
    "import matplotlib.pyplot as plt\n",
    "%matplotlib inline\n",
    "\n",
    "x = np.linspace(0,10,100)\n",
    "\n",
    "mu = 5\n",
    "sigma = 1\n",
    "\n",
    "Bell_curve = 100/(sigma*np.sqrt(2*math.pi))*np.exp(-0.5*((x-mu)/sigma)**2)\n",
    "\n",
    "plt.plot(x,Bell_curve,'r')\n",
    "plt.ylabel('Prosent påvirket')\n",
    "plt.xlabel('Respons')"
   ]
  },
  {
   "cell_type": "markdown",
   "metadata": {},
   "source": [
    "Standardavviket kan enkelt beregnes fra variansen."
   ]
  },
  {
   "cell_type": "markdown",
   "metadata": {},
   "source": [
    "\\begin{align}\n",
    "\\sigma^{2}=\\frac{\\sum_{n=1}^{N}(x_i - \\mu)^2 f(x_i) }{\\sum_{n=1}^{N}f(x_i}\n",
    "\\end{align}"
   ]
  },
  {
   "cell_type": "markdown",
   "metadata": {},
   "source": [
    "![title](Normal distribution II.JPG)"
   ]
  },
  {
   "cell_type": "markdown",
   "metadata": {},
   "source": [
    "## Et eksempel\n",
    "\n",
    "74 mennesker ble testet for hudirritasjoner knyttet til **en spesifikk dose** kjemikalie. Responsen ble målt på en skala fra 0 til 10, hvor 0 var ingen reaksjon og 10 indikerte en sterk reaksjon. Antall påvirkede personer er vist i tabellen nedenfor."
   ]
  },
  {
   "cell_type": "code",
   "execution_count": 2,
   "metadata": {
    "collapsed": false
   },
   "outputs": [
    {
     "data": {
      "text/html": [
       "<div>\n",
       "<table border=\"1\" class=\"dataframe\">\n",
       "  <thead>\n",
       "    <tr style=\"text-align: right;\">\n",
       "      <th></th>\n",
       "      <th>Respons</th>\n",
       "      <th>Antall personer påvirket</th>\n",
       "    </tr>\n",
       "  </thead>\n",
       "  <tbody>\n",
       "    <tr>\n",
       "      <th>0</th>\n",
       "      <td>0</td>\n",
       "      <td>0</td>\n",
       "    </tr>\n",
       "    <tr>\n",
       "      <th>1</th>\n",
       "      <td>1</td>\n",
       "      <td>5</td>\n",
       "    </tr>\n",
       "    <tr>\n",
       "      <th>2</th>\n",
       "      <td>2</td>\n",
       "      <td>10</td>\n",
       "    </tr>\n",
       "    <tr>\n",
       "      <th>3</th>\n",
       "      <td>3</td>\n",
       "      <td>13</td>\n",
       "    </tr>\n",
       "    <tr>\n",
       "      <th>4</th>\n",
       "      <td>4</td>\n",
       "      <td>13</td>\n",
       "    </tr>\n",
       "    <tr>\n",
       "      <th>5</th>\n",
       "      <td>5</td>\n",
       "      <td>11</td>\n",
       "    </tr>\n",
       "    <tr>\n",
       "      <th>6</th>\n",
       "      <td>6</td>\n",
       "      <td>9</td>\n",
       "    </tr>\n",
       "    <tr>\n",
       "      <th>7</th>\n",
       "      <td>7</td>\n",
       "      <td>6</td>\n",
       "    </tr>\n",
       "    <tr>\n",
       "      <th>8</th>\n",
       "      <td>8</td>\n",
       "      <td>3</td>\n",
       "    </tr>\n",
       "    <tr>\n",
       "      <th>9</th>\n",
       "      <td>9</td>\n",
       "      <td>3</td>\n",
       "    </tr>\n",
       "    <tr>\n",
       "      <th>10</th>\n",
       "      <td>10</td>\n",
       "      <td>2</td>\n",
       "    </tr>\n",
       "  </tbody>\n",
       "</table>\n",
       "</div>"
      ],
      "text/plain": [
       "    Respons  Antall personer påvirket\n",
       "0         0                         0\n",
       "1         1                         5\n",
       "2         2                        10\n",
       "3         3                        13\n",
       "4         4                        13\n",
       "5         5                        11\n",
       "6         6                         9\n",
       "7         7                         6\n",
       "8         8                         3\n",
       "9         9                         3\n",
       "10       10                         2"
      ]
     },
     "execution_count": 2,
     "metadata": {},
     "output_type": "execute_result"
    }
   ],
   "source": [
    "import pandas as pd\n",
    "\n",
    "A = np.array([[0.0,0.0],[1.0,5.0],[2.0,10.0],[3.0,13.0],[4.0,13.0],[5.0,11.0],[6.0,9.0],[7.0,6.0],[8.0,3.0],[9.0,3.0],[10.0,2.0]])\n",
    "\n",
    "#d = {'col1': [1, 2], 'col2': [3, 4]}\n",
    "#df = pd.DataFrame(data=d)\n",
    "df = pd.DataFrame(A,dtype=np.int8,columns=['Respons', 'Antall personer påvirket'])\n",
    "df"
   ]
  },
  {
   "cell_type": "markdown",
   "metadata": {},
   "source": [
    "### Oppgaver\n",
    "Plot et histogram som viser fordelingen av responsen\n",
    "<bt>\n",
    "Beregn middelverdien og standardavviket\n",
    "<bt>\n",
    "Plot en normalfordeling sammen med histogramet og de orginale dataene\n"
   ]
  },
  {
   "cell_type": "code",
   "execution_count": 3,
   "metadata": {
    "collapsed": false
   },
   "outputs": [
    {
     "name": "stdout",
     "output_type": "stream",
     "text": [
      "middelverdien er  4.50666666667\n"
     ]
    },
    {
     "data": {
      "text/plain": [
       "[<matplotlib.lines.Line2D at 0x182f41c4d30>]"
      ]
     },
     "execution_count": 3,
     "metadata": {},
     "output_type": "execute_result"
    },
    {
     "data": {
      "image/png": "[encoded data removed]",
      "text/plain": [
       "<matplotlib.figure.Figure at 0x182f26a4ef0>"
      ]
     },
     "metadata": {},
     "output_type": "display_data"
    }
   ],
   "source": [
    "%matplotlib inline\n",
    "import numpy as np\n",
    "import math\n",
    "import matplotlib.pyplot as plt\n",
    "\n",
    "A = np.array([[0.0,0.0],[1.0,5.0],[2.0,10.0],[3.0,13.0],[4.0,13.0],[5.0,11.0],[6.0,9.0],[7.0,6.0],[8.0,3.0],[9.0,3.0],[10.0,2.0]])\n",
    "\n",
    "np.mean(A[0:11,1])\n",
    "\n",
    "mu = np.sum(A[0:11,0]*A[0:11,1])/75\n",
    "\n",
    "print('middelverdien er ',mu)\n",
    "\n",
    "var = np.sum((A[0:11,0]-mu)**2*A[0:11,1])/75\n",
    "\n",
    "sigma = np.sqrt(var)\n",
    "    \n",
    "plt.figure(1)\n",
    "plt.clf()\n",
    "plt.bar(A[0:11,0],A[0:11,1])\n",
    "#plt.plot(A[0:11,0],A[0:11,1],'x')\n",
    "\n",
    "x = np.linspace(0,10,41)\n",
    "Bell_curve = 75*1/(sigma*np.sqrt(2*math.pi))*np.exp(-0.5*((x-mu)/sigma)**2)\n",
    "\n",
    "plt.plot(x,Bell_curve,'r')"
   ]
  },
  {
   "cell_type": "markdown",
   "metadata": {},
   "source": [
    "## Når dosen er forskjellig\n",
    "La oss fortsette dette eksempelet med hudirritasjoner knyttet til en kjemikalietest. Denne gangen blir det testet forskjellige doser på menneskene. Noen får en stor dose og noen får en liten dose. Da kan vi forvente at det blir en stor forskjell i responsen. Samtidig vil det være en variasjon mellom de menneskene som har fått lik dose. Det blir registrert middelverdien og standardavviket for hver dose.\n",
    "<bt>\n",
    "En komplett dose mot respons kurve får vi nå vi plotter den kumullative responsen mot dosen. Da bruker vi dataene fra tidligere."
   ]
  },
  {
   "cell_type": "code",
   "execution_count": 4,
   "metadata": {
    "collapsed": false
   },
   "outputs": [
    {
     "data": {
      "text/html": [
       "<div>\n",
       "<table border=\"1\" class=\"dataframe\">\n",
       "  <thead>\n",
       "    <tr style=\"text-align: right;\">\n",
       "      <th></th>\n",
       "      <th>Respons</th>\n",
       "      <th>Andel personer påvirket</th>\n",
       "      <th>Antall personer påvirket</th>\n",
       "    </tr>\n",
       "  </thead>\n",
       "  <tbody>\n",
       "    <tr>\n",
       "      <th>0</th>\n",
       "      <td>0.0</td>\n",
       "      <td>0.02320</td>\n",
       "      <td>1.7400</td>\n",
       "    </tr>\n",
       "    <tr>\n",
       "      <th>1</th>\n",
       "      <td>1.0</td>\n",
       "      <td>0.05190</td>\n",
       "      <td>3.8925</td>\n",
       "    </tr>\n",
       "    <tr>\n",
       "      <th>2</th>\n",
       "      <td>2.0</td>\n",
       "      <td>0.09480</td>\n",
       "      <td>7.1100</td>\n",
       "    </tr>\n",
       "    <tr>\n",
       "      <th>3</th>\n",
       "      <td>3.0</td>\n",
       "      <td>0.14170</td>\n",
       "      <td>10.6275</td>\n",
       "    </tr>\n",
       "    <tr>\n",
       "      <th>4</th>\n",
       "      <td>4.0</td>\n",
       "      <td>0.17300</td>\n",
       "      <td>12.9750</td>\n",
       "    </tr>\n",
       "    <tr>\n",
       "      <th>5</th>\n",
       "      <td>5.0</td>\n",
       "      <td>0.17400</td>\n",
       "      <td>13.0500</td>\n",
       "    </tr>\n",
       "    <tr>\n",
       "      <th>6</th>\n",
       "      <td>6.0</td>\n",
       "      <td>0.14300</td>\n",
       "      <td>10.7250</td>\n",
       "    </tr>\n",
       "    <tr>\n",
       "      <th>7</th>\n",
       "      <td>7.0</td>\n",
       "      <td>0.09600</td>\n",
       "      <td>7.2000</td>\n",
       "    </tr>\n",
       "    <tr>\n",
       "      <th>8</th>\n",
       "      <td>8.0</td>\n",
       "      <td>0.05270</td>\n",
       "      <td>3.9525</td>\n",
       "    </tr>\n",
       "    <tr>\n",
       "      <th>9</th>\n",
       "      <td>9.0</td>\n",
       "      <td>0.02370</td>\n",
       "      <td>1.7775</td>\n",
       "    </tr>\n",
       "    <tr>\n",
       "      <th>10</th>\n",
       "      <td>10.0</td>\n",
       "      <td>0.00874</td>\n",
       "      <td>0.6555</td>\n",
       "    </tr>\n",
       "  </tbody>\n",
       "</table>\n",
       "</div>"
      ],
      "text/plain": [
       "    Respons  Andel personer påvirket  Antall personer påvirket\n",
       "0       0.0                  0.02320                    1.7400\n",
       "1       1.0                  0.05190                    3.8925\n",
       "2       2.0                  0.09480                    7.1100\n",
       "3       3.0                  0.14170                   10.6275\n",
       "4       4.0                  0.17300                   12.9750\n",
       "5       5.0                  0.17400                   13.0500\n",
       "6       6.0                  0.14300                   10.7250\n",
       "7       7.0                  0.09600                    7.2000\n",
       "8       8.0                  0.05270                    3.9525\n",
       "9       9.0                  0.02370                    1.7775\n",
       "10     10.0                  0.00874                    0.6555"
      ]
     },
     "execution_count": 4,
     "metadata": {},
     "output_type": "execute_result"
    }
   ],
   "source": [
    "import pandas as pd\n",
    "import numpy as np\n",
    "\n",
    "\n",
    "dose = [0 ,1,2,3,4,5,6,7,8,9,10]\n",
    "\n",
    "respons = np.array([0.0232,0.0519,0.0948,0.1417,0.173,0.174,0.143,0.096,0.0527,0.0237,0.00874])# dette er den forventede responsen ved en gitt dose\n",
    "data = np.zeros((11,3))\n",
    "data[:,0] = dose\n",
    "data[:,1] = respons\n",
    "data[:,2] = (respons*75)\n",
    "\n",
    "df = pd.DataFrame(data,columns=['Respons', 'Andel personer påvirket','Antall personer påvirket'])\n",
    "df\n"
   ]
  },
  {
   "cell_type": "markdown",
   "metadata": {},
   "source": [
    "Da kan dette plottes slik at vi kan se hvordan det ser ut. Først plottes fordelingen så plottes den kumullative fordelingen."
   ]
  },
  {
   "cell_type": "code",
   "execution_count": 5,
   "metadata": {
    "collapsed": false
   },
   "outputs": [
    {
     "data": {
      "text/plain": [
       "<matplotlib.text.Text at 0x182f42346d8>"
      ]
     },
     "execution_count": 5,
     "metadata": {},
     "output_type": "execute_result"
    },
    {
     "data": {
      "image/png": "[encoded data removed]",
      "text/plain": [
       "<matplotlib.figure.Figure at 0x182f418e9b0>"
      ]
     },
     "metadata": {},
     "output_type": "display_data"
    }
   ],
   "source": [
    "%matplotlib inline\n",
    "import numpy as np\n",
    "import math\n",
    "import matplotlib.pyplot as plt\n",
    "\n",
    "plt.plot(data[:,0],data[:,2])\n",
    "plt.xlabel('Dose')\n",
    "plt.ylabel('Middelverdi av responsen ved gitt dose')"
   ]
  },
  {
   "cell_type": "code",
   "execution_count": 6,
   "metadata": {
    "collapsed": false
   },
   "outputs": [
    {
     "data": {
      "text/plain": [
       "<matplotlib.text.Text at 0x182f42b2550>"
      ]
     },
     "execution_count": 6,
     "metadata": {},
     "output_type": "execute_result"
    },
    {
     "data": {
      "image/png": "[encoded data removed]",
      "text/plain": [
       "<matplotlib.figure.Figure at 0x182f429fdd8>"
      ]
     },
     "metadata": {},
     "output_type": "display_data"
    }
   ],
   "source": [
    "Kum_respons = np.cumsum(data [:,1])\n",
    "\n",
    "plt.plot(data[:,0],Kum_respons,'-x')\n",
    "plt.xlabel('Dose')\n",
    "plt.ylabel('Respons')"
   ]
  },
  {
   "cell_type": "markdown",
   "metadata": {},
   "source": [
    "Ved å fremstille dataene med den kumullative responsen gir god mening siden alle reagerer ved en lavere dose.\n",
    "<bt>\n",
    "I mange tilfeller er det bedre å fremstille dataene med en logaritmisk skala for dosen. Det gjøres nedenfor."
   ]
  },
  {
   "cell_type": "code",
   "execution_count": 7,
   "metadata": {
    "collapsed": false,
    "scrolled": true
   },
   "outputs": [
    {
     "name": "stdout",
     "output_type": "stream",
     "text": [
      "[       -inf  0.          0.69314718  1.09861229  1.38629436  1.60943791\n",
      "  1.79175947  1.94591015  2.07944154  2.19722458  2.30258509]\n"
     ]
    },
    {
     "data": {
      "text/plain": [
       "<matplotlib.text.Text at 0x182f431b710>"
      ]
     },
     "execution_count": 7,
     "metadata": {},
     "output_type": "execute_result"
    },
    {
     "data": {
      "image/png": "[encoded data removed]",
      "text/plain": [
       "<matplotlib.figure.Figure at 0x182f43087b8>"
      ]
     },
     "metadata": {},
     "output_type": "display_data"
    }
   ],
   "source": [
    "log_dose = np.log(dose)\n",
    "print(log_dose)\n",
    "\n",
    "\n",
    "plt.plot(log_dose,Kum_respons*100,'-x')\n",
    "plt.xlabel('Logaritmen til Dosen')\n",
    "plt.ylabel('Respons (%)')"
   ]
  },
  {
   "cell_type": "markdown",
   "metadata": {},
   "source": [
    "## Avlesning av dose og respons\n",
    "\n",
    "Nå kan vi gå inn i grafen og sjekke hvilken dose som gir en respons hos for eksempel 10% av testpersonene.\n",
    "<bt>\n",
    "De forskjellige andelene som responderer deles inn etter dosen. Den dosen som er \"effektiv\" for 50% av testpersonene kalles ED50 (effektiv dose 50%). Den dosen som er \"effektiv\" for 10% av testpersonene kalles ED10.\n",
    "<bt>\n",
    "Hvis det er snakk om dødelige doser så kalles det Lethal Dose (LD50 og LD10). Toksiske doser brukes om effekter som ikke er dødelige med som gir irreversible effekter kalles Toxic Dose (TD50 og TD10)."
   ]
  },
  {
   "cell_type": "markdown",
   "metadata": {},
   "source": [
    "## Modeller for dose og respons-kurver\n",
    "\n",
    "Ofte er data for dose og respons gitt som en lineær funksjon av en probit. En probit er en sannsynlighets-enhet (probability unit). Det er litt vrient å venne seg til å bruke probit, men med litt trening så gir det god mening.\n",
    "<bt>\n",
    "Probit er en transformasjon fra sannsynlighet (f(x) eller P) til en ny variable Y. Den formelle transformasjonen er gitt under. Den vises kun som bakgrunnsinformasjon, da bruken er en del enklere."
   ]
  },
  {
   "cell_type": "markdown",
   "metadata": {},
   "source": [
    "\\begin{align}\n",
    "P = \\frac{1}{(2 \\pi)^2} \\int_{-\\infty}^{Y-5} exp \\left[ -\\frac{u^2}{2} \\right] du\n",
    "\\end{align}"
   ]
  },
  {
   "cell_type": "markdown",
   "metadata": {},
   "source": [
    "For beregninger er det mye lettere å bruke en konvertering fra sansynlighet til probit ved\n",
    "<bt>\n",
    "\\begin{align}\n",
    "P = 50 \\left[ 1 + erf \\left( \\frac{Y-5}{\\sqrt{2}} \\right)   \\right]\n",
    "\\end{align}\n",
    "\n",
    "<bt>\n",
    "Vi ser at det ikke er rett frem å løse Y fra ligningen over. Da kan det være lurt å lage seg et lite program som løser saken på en enkel måte.\n",
    "\n",
    "<bt>\n",
    "I python kan vi gjøre det på følgende måte. Da definerer vi en funksjon som regner \"Probability to Probit\". Den får en input P og gir en utput Y. Beregningen er basert på en bisection metode. Info om dette kan du finne i en vanlig matematikkbok, eller se på https://en.wikipedia.org/wiki/Bisection_method (selv om Wikipedia referanser kan være upålitelige)."
   ]
  },
  {
   "cell_type": "markdown",
   "metadata": {},
   "source": [
    "### Sansynlighet til probit"
   ]
  },
  {
   "cell_type": "code",
   "execution_count": 8,
   "metadata": {
    "collapsed": true
   },
   "outputs": [],
   "source": [
    "def Prob2Probit(P):\n",
    "    \"\"\"\n",
    "    Denne funksjonen beregner probitverdien som korresponderer med en gitt\n",
    "    sansynlighet\n",
    "    \"\"\"\n",
    "    \n",
    "    def Prob0(Y,P) :\n",
    "        \"\"\"\n",
    "        Denne funksjonen brukes til å regne ut probitverdien i funksjonen nedenfor\n",
    "        \"\"\"\n",
    "        import numpy as np\n",
    "        import math\n",
    "        \n",
    "        Pcalc = 50.0*(1 + math.erf((Y-5)/np.sqrt(2)) ) - P\n",
    "        return Pcalc    \n",
    "    \n",
    "    a, b = 0, 9\n",
    "    app = 0.001\n",
    "    Fa, Fb = Prob0(a,P), Prob0(b,P)\n",
    "    if Fa * Fb > 0:\n",
    "     raise Exception('No change of sign - bisection not possible')   \n",
    "    while( b - a > app ): \n",
    "     x = ( a + b ) / 2.0\n",
    "     f = Prob0(x,P)\n",
    "     if f * Fa > 0: a = x\n",
    "     else: b = x  \n",
    "\n",
    "    return x"
   ]
  },
  {
   "cell_type": "markdown",
   "metadata": {},
   "source": [
    "Da kan vi gå inn og se hva probitverdien (Y) blir forskjellige sannsynligheter (P). La oss først prøve med en 20% sannsynlighet (P=20). Og videre kan vi teste med forskjellige sansynligheter."
   ]
  },
  {
   "cell_type": "code",
   "execution_count": 11,
   "metadata": {
    "collapsed": false
   },
   "outputs": [
    {
     "data": {
      "text/plain": [
       "4.15887451171875"
      ]
     },
     "execution_count": 11,
     "metadata": {},
     "output_type": "execute_result"
    }
   ],
   "source": [
    "Y = Prob2Probit(20)\n",
    "Y"
   ]
  },
  {
   "cell_type": "markdown",
   "metadata": {},
   "source": [
    "### Probit til sansynlighet\n",
    "På lik måte så lager vi en funksjon som regner fra probit til sansynlighet"
   ]
  },
  {
   "cell_type": "code",
   "execution_count": 12,
   "metadata": {
    "collapsed": true
   },
   "outputs": [],
   "source": [
    "def ProbitFraProb(Y) :\n",
    "        \"\"\"\n",
    "        Denne funksjonen brukes til å regne ut probitverdien i funksjonen nedenfor\n",
    "        \"\"\"\n",
    "        import numpy as np\n",
    "        import math\n",
    "        \n",
    "        P = 50.0*(1 + math.erf((Y-5)/np.sqrt(2)) )\n",
    "        return P   "
   ]
  },
  {
   "cell_type": "markdown",
   "metadata": {},
   "source": [
    "Vi tester med å regne hva sansynligheten er når probit er Y=4.01"
   ]
  },
  {
   "cell_type": "code",
   "execution_count": 14,
   "metadata": {
    "collapsed": false
   },
   "outputs": [
    {
     "data": {
      "text/plain": [
       "50.0"
      ]
     },
     "execution_count": 14,
     "metadata": {},
     "output_type": "execute_result"
    }
   ],
   "source": [
    "ProbitFraProb(5)"
   ]
  },
  {
   "cell_type": "markdown",
   "metadata": {},
   "source": [
    "Ofte fremstilles omgjøringen av sansynlighet til probit (og motsatt) i en tabell. Tabellen er vist nedenfor. Der er sansynligheten gitt i prosent og probitverdien gitt i tabellen. Man kan selvfølgelig også interpolere på tabellen.\n",
    "\n",
    "![title](Prosent_til_probit.gif)\n",
    "\n",
    "<bt>\n",
    "En liten forklaring på hvordan denne tabellen leses kan dere se i denne korte filmen."
   ]
  },
  {
   "cell_type": "code",
   "execution_count": 15,
   "metadata": {
    "collapsed": false
   },
   "outputs": [
    {
     "data": {
      "image/jpeg": "[encoded data removed]",
      "text/html": [
       "\n",
       "        <iframe\n",
       "            width=\"400\"\n",
       "            height=\"300\"\n",
       "            src=\"https://www.youtube.com/embed/MG6mv6ZGZak\"\n",
       "            frameborder=\"0\"\n",
       "            allowfullscreen\n",
       "        ></iframe>\n",
       "        "
      ],
      "text/plain": [
       "<IPython.lib.display.YouTubeVideo at 0x182f42ffa20>"
      ]
     },
     "execution_count": 15,
     "metadata": {},
     "output_type": "execute_result"
    }
   ],
   "source": [
    "from IPython.lib.display import YouTubeVideo\n",
    "YouTubeVideo('MG6mv6ZGZak')\n"
   ]
  },
  {
   "cell_type": "markdown",
   "metadata": {},
   "source": [
    "## Hva skal dette brukes til?\n",
    "Nå har dere lært (og repetert) en del sansynlighetsregning, men hva kan dere bruke dette til? Det skal benyttes til å beregne responsen fra en gitt dose. Nå utvider vi begrepet dose til også å innkludere trykk-last, termisk stråling fra en brann og eksponert dose av toksin.\n",
    "<bt>\n",
    "Den store fordelen til probit er at verdien er lineært avhengig av logaritmen til dosen. Da er det lett å beregne frem og tilbake fra dose til sansynlighet.\n",
    "<bt>\n",
    "Probit beregnes fra to koeffisienter og logaritmen til en dose (V).\n",
    "\n",
    "\\begin{align}\n",
    "Y = k_1 + k_2 ln( V)\n",
    "\\end{align}\n",
    "\n",
    "<bt>\n",
    "Vi lager oss en funksjon som beregner probit og sansynlighet"
   ]
  },
  {
   "cell_type": "code",
   "execution_count": 16,
   "metadata": {
    "collapsed": true
   },
   "outputs": [],
   "source": [
    "def Probit2Prob(k1,k2,V):\n",
    "    \"\"\"\n",
    "    Denne funksjonen beregner sansynlighet basert på gitte probitparametere \n",
    "    k1 og k2 samt dosen V. Pass på å bruke riktig enhet på dosen.\n",
    "    \"\"\"\n",
    "\n",
    "    import numpy as np\n",
    "    import math\n",
    "\n",
    "    Y = k1 + k2 *np.log(V);\n",
    "    \n",
    "    P = 50.0*(1 + math.erf((Y-5)/np.sqrt(2)) )\n",
    "\n",
    "    return P"
   ]
  },
  {
   "cell_type": "markdown",
   "metadata": {},
   "source": [
    "<bt>\n",
    "Du må være nøye når du evaluerer dosen. Den er ofte gitt som en kombinasjon av flere variable. Koeffisientene og dosens enhet finner vi i tabeller. En tabell er gitt i Crowl og Louvar og er vist nedenfor.\n",
    "\n",
    "![title](Probit_input.png)\n",
    "<bt>\n",
    "Vi ser fra tabellen at dosen (causative variable) er forskjellig. Derfor er det viktig å benytte riktig dose i beregningene. For eksempel er probit verdien for knust glass gitt ved\n",
    "\n",
    "\\begin{align}\n",
    "Y = -23.8 + 2.92 * ln(P)\n",
    "\\end{align}\n",
    "\n",
    "Her må dosen (trykket) være gitt med enhet Newton per kvadratmeter, ellers kjent som Pascal.\n",
    "<bt>\n",
    "Hvis vi ønsker å få litt erfaring med hva disse tallene betyr så kan det være greit å plotte det slik at vi kan få en følelse med størrelsen på dosen (trykket)"
   ]
  },
  {
   "cell_type": "code",
   "execution_count": 17,
   "metadata": {
    "collapsed": false
   },
   "outputs": [
    {
     "name": "stdout",
     "output_type": "stream",
     "text": [
      "Sansynligheten for at glasset knuser er 56.22 %\n"
     ]
    }
   ],
   "source": [
    "%matplotlib inline\n",
    "import numpy as np\n",
    "import matplotlib.pyplot as plt\n",
    "\n",
    "k1 = -23.8\n",
    "k2 = 2.92\n",
    "\n",
    "V = 101325*0.2\n",
    "\n",
    "P = Probit2Prob(k1,k2,V)\n",
    "\n",
    "print('Sansynligheten for at glasset knuser er', np.round(P,2),'%')"
   ]
  },
  {
   "cell_type": "code",
   "execution_count": 18,
   "metadata": {
    "collapsed": false
   },
   "outputs": [
    {
     "data": {
      "text/plain": [
       "<matplotlib.text.Text at 0x182f534d828>"
      ]
     },
     "execution_count": 18,
     "metadata": {},
     "output_type": "execute_result"
    },
    {
     "data": {
      "image/png": "[encoded data removed]",
      "text/plain": [
       "<matplotlib.figure.Figure at 0x182f533dbe0>"
      ]
     },
     "metadata": {},
     "output_type": "display_data"
    }
   ],
   "source": [
    "x = np.linspace(0.1,0.6,30)\n",
    "\n",
    "V = 101325*x\n",
    "#print(V)\n",
    "P = np.zeros(len(V))\n",
    "\n",
    "for i in range(0,30):\n",
    "    P[i] = Probit2Prob(k1,k2,V[i])\n",
    "     \n",
    "plt.figure(1)\n",
    "plt.clf()\n",
    "#plt.plot(T[for_end,:].T)\n",
    "plt.plot(x,P)\n",
    "#plt.ylim(ymax=220)\n",
    "#plt.xlim(xmax=n+1)\n",
    "#plt.show()\n",
    "plt.ylabel('Sansynlighet for knust glass (%)')\n",
    "plt.xlabel('Overtrykk (atm)')"
   ]
  },
  {
   "cell_type": "markdown",
   "metadata": {},
   "source": [
    "## Om probit doser\n",
    "\n",
    "Som sagt er det viktig å holde rede på dosene når vi jobber med probit\n",
    "<bt>"
   ]
  },
  {
   "cell_type": "markdown",
   "metadata": {},
   "source": [
    "### Brann\n",
    "Dosen som ofte benyttes når vi beregner skader fra brann er knyttet til en strålingstid. Dette er gitt ved:\n",
    "\n",
    "\\begin{align}\n",
    "V = \\frac{t I^{4/3}}{10^4}\n",
    "\\end{align}\n",
    "\n",
    "fra dette er tiden **t** avhengig av hvilket tilfelle vi undersøker. Er det en vedvarende brann så brukes eksponeringstiden, det vi si hvor lenge man er eksponert for den termiske strålingen. Evaluerer vi effekten fra en ildkule eller en kortvarig brann så må vi bruke en effektiv tid. Denne må vi ofte anslå eller finne måter å beregne den på.\n",
    "Intensiteten **I** må også evalueres på bakgrunn av hvilken type brann man evaluerer.\n",
    "\n",
    "### Eksplosjoner\n",
    "Dosen som benyttes for å evaluere effektene fra eksplosjoner varierer. Noen benytter overtrykket gitt i Pascal $\\left( \\frac{N}{m^2} \\right)$.\n",
    "<bt>\n",
    "Beregnigner av sansynlighet for skade og død på grunn av at man blir truffet av trykkbølger eller blir truffet av fragmenter benytter impulse som dose. Pass på at dette er den formelle definisjonen av impuls. Det er definert som tids-integralet av en kraft. Altså det som gir en endring i massefart. Vi benytter det på en enkel måte.\n",
    "\n",
    "\\begin{align}\n",
    "J = \\int P dt \\approx P t\n",
    "\\end{align}\n",
    "<bt>\n",
    "Hvor **t** er varigheten og trykket er konstant.\n",
    "\n",
    "### Giftige stoffer\n",
    "Når vi beregner sansynligheten for død på grunn av eksponering for giftige stoffer er det viktig at dosen tar høyde for konsentrasjonen av giftig stoff og eksponeringstiden. Da blir dosen gitt ved å integrere konsentrasjonen over tid.\n",
    "\n",
    "\\begin{align}\n",
    "V = \\int_{0}^{t} C^n dt\n",
    "\\end{align}\n",
    "<bt>\n",
    "Her er tiden **t** gitt i minutter og konsentrasjonen gitt i ppm (parts per million). Man kan regne om fra $\\frac{mg}{m^3}$ til ppm ved formelen\n",
    "\n",
    "\\begin{align}\n",
    "C_{ppm} = \\frac{22.4}{M [g/mol]}\\frac{T [K]}{273}\\frac{1}{P [atm]}C_{mg/m^3}\n",
    "\\end{align}"
   ]
  }
 ],
 "metadata": {
  "kernelspec": {
   "display_name": "Python [Root]",
   "language": "python",
   "name": "Python [Root]"
  },
  "language_info": {
   "codemirror_mode": {
    "name": "ipython",
    "version": 3
   },
   "file_extension": ".py",
   "mimetype": "text/x-python",
   "name": "python",
   "nbconvert_exporter": "python",
   "pygments_lexer": "ipython3",
   "version": "3.5.2"
  }
 },
 "nbformat": 4,
 "nbformat_minor": 0
}
