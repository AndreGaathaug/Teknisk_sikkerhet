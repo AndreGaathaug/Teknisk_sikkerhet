{
 "cells": [
  {
   "cell_type": "markdown",
   "metadata": {},
   "source": [
    "# Oppgave 2.2 løsningsforslag\n",
    "\n",
    "Denne oppgaven dreier seg om å konsekvensen for levede organismer som blir behandlet med rotenon. Dataene er gitt i oppgaven og vi skal finne probit koeffisientene basert på den gitte statistikken.\n",
    "<bt> \n",
    "Først skal vi plotte sansynligheten mot logaritmen av dosen og etterpå skal vi konvertene sansynligheten til probit og finne koeffisientene.\n",
    "<bt> \n",
    "Først git vi dataene\n"
   ]
  },
  {
   "cell_type": "code",
   "execution_count": 23,
   "metadata": {
    "collapsed": false
   },
   "outputs": [
    {
     "data": {
      "text/html": [
       "<div>\n",
       "<table border=\"1\" class=\"dataframe\">\n",
       "  <thead>\n",
       "    <tr style=\"text-align: right;\">\n",
       "      <th></th>\n",
       "      <th>Dose</th>\n",
       "      <th>Sansynlighet</th>\n",
       "    </tr>\n",
       "  </thead>\n",
       "  <tbody>\n",
       "    <tr>\n",
       "      <th>0</th>\n",
       "      <td>10.2</td>\n",
       "      <td>88.0</td>\n",
       "    </tr>\n",
       "    <tr>\n",
       "      <th>1</th>\n",
       "      <td>7.7</td>\n",
       "      <td>85.7</td>\n",
       "    </tr>\n",
       "    <tr>\n",
       "      <th>2</th>\n",
       "      <td>5.1</td>\n",
       "      <td>52.2</td>\n",
       "    </tr>\n",
       "    <tr>\n",
       "      <th>3</th>\n",
       "      <td>3.8</td>\n",
       "      <td>33.3</td>\n",
       "    </tr>\n",
       "    <tr>\n",
       "      <th>4</th>\n",
       "      <td>2.6</td>\n",
       "      <td>12.0</td>\n",
       "    </tr>\n",
       "    <tr>\n",
       "      <th>5</th>\n",
       "      <td>0.0</td>\n",
       "      <td>0.0</td>\n",
       "    </tr>\n",
       "  </tbody>\n",
       "</table>\n",
       "</div>"
      ],
      "text/plain": [
       "   Dose  Sansynlighet\n",
       "0  10.2          88.0\n",
       "1   7.7          85.7\n",
       "2   5.1          52.2\n",
       "3   3.8          33.3\n",
       "4   2.6          12.0\n",
       "5   0.0           0.0"
      ]
     },
     "execution_count": 23,
     "metadata": {},
     "output_type": "execute_result"
    }
   ],
   "source": [
    "import numpy as np\n",
    "import pandas as pd\n",
    "\n",
    "Dose = np.array([10.2, 7.7, 5.1, 3.8, 2.6, 0])\n",
    "\n",
    "# Så gir vi sansynligheten\n",
    "\n",
    "P = np.array([44/50, 42/49, 24/46, 16/48, 6/50, 0/49])\n",
    "P = P*100\n",
    "\n",
    "\"\"\"\n",
    "her kommer noen snippetriks for å vise en tabell\n",
    "\"\"\"\n",
    "\n",
    "d = {'Dose': Dose, 'Sansynlighet': P}\n",
    "df = pd.DataFrame(data=d)\n",
    "df.round({'Dose': 1, 'Sansynlighet': 1})\n"
   ]
  },
  {
   "cell_type": "markdown",
   "metadata": {},
   "source": [
    "Nå kan vi plotte dataene i et plot"
   ]
  },
  {
   "cell_type": "code",
   "execution_count": 26,
   "metadata": {
    "collapsed": false
   },
   "outputs": [
    {
     "data": {
      "image/png": "[encoded data removed]",
      "text/plain": [
       "<matplotlib.figure.Figure at 0x2823cade128>"
      ]
     },
     "metadata": {},
     "output_type": "display_data"
    }
   ],
   "source": [
    "%matplotlib inline\n",
    "import matplotlib.pyplot as plt\n",
    "\n",
    "plt.plot(np.log(Dose),P,'b-x');\n",
    "plt.xlabel('ln(Dose)');\n",
    "plt.ylabel('Sansynlighet [%]');"
   ]
  },
  {
   "cell_type": "markdown",
   "metadata": {},
   "source": [
    "Nå må vi gjøre om verdiene for sansynlighet til probit verdier. Da henter vi inn funksjonen fra tidligere. Ser også at dataene kan tilpasses en rett linje. Det er jo bra, siden det er hele ideen med å bruke probit.\n"
   ]
  },
  {
   "cell_type": "code",
   "execution_count": 71,
   "metadata": {
    "collapsed": true
   },
   "outputs": [],
   "source": [
    "def Prob2Probit(P):\n",
    "    \"\"\"\n",
    "    Denne funksjonen beregner probitverdien som korresponderer med en gitt\n",
    "    sansynlighet\n",
    "    \"\"\"\n",
    "    \n",
    "    def Prob0(Y,P) :\n",
    "        \"\"\"\n",
    "        Denne funksjonen brukes til å regne ut probitverdien i funksjonen nedenfor\n",
    "        \"\"\"\n",
    "        import numpy as np\n",
    "        import math\n",
    "        \n",
    "        Pcalc = 50.0*(1 + math.erf((Y-5)/np.sqrt(2)) ) - P\n",
    "        return Pcalc    \n",
    "    \n",
    "    a, b = 0, 9\n",
    "    app = 0.001\n",
    "    Fa, Fb = Prob0(a,P), Prob0(b,P)\n",
    "    if Fa * Fb > 0:\n",
    "     raise Exception('No change of sign - bisection not possible')   \n",
    "    while( b - a > app ): \n",
    "     x = ( a + b ) / 2.0\n",
    "     f = Prob0(x,P)\n",
    "     if f * Fa > 0: a = x\n",
    "     else: b = x  \n",
    "\n",
    "    return x"
   ]
  },
  {
   "cell_type": "markdown",
   "metadata": {},
   "source": [
    "Når vi har kjørt den forrige cellen så har vi funksjonen klar til å brukes. Da er det bare å gå i gang med å bruke den."
   ]
  },
  {
   "cell_type": "code",
   "execution_count": 72,
   "metadata": {
    "collapsed": false
   },
   "outputs": [
    {
     "data": {
      "image/png": "[encoded data removed]",
      "text/plain": [
       "<matplotlib.figure.Figure at 0x2823cecae48>"
      ]
     },
     "metadata": {},
     "output_type": "display_data"
    }
   ],
   "source": [
    "# Lager først en array vi kan putte probitverdiene i\n",
    "pb = np.zeros(len(P))\n",
    "\n",
    "for i in range (0, len(pb)-1):\n",
    "    pb[i] = Prob2Probit(P[i])\n",
    "\n",
    "\"\"\"\n",
    "da har vi probitverdiene i en array pb\n",
    "da kan vi fortsette og plotte \n",
    "\"\"\"\n",
    "\n",
    "plt.plot(np.log(Dose),pb,'bx');\n",
    "plt.xlabel('ln(Dose)');\n",
    "plt.ylabel('Probit');"
   ]
  },
  {
   "cell_type": "markdown",
   "metadata": {},
   "source": [
    "Ser nå at vi trenger en fin måte og tilpasse en rett linje til disse dataene. Da husker vi at det finnes en metode som heter minste kvadraters metode som kan brukes. Jeg vil heller gå til google og søke på: \"numpy fit line\" så dukker numpy.polyfit opp. Den forsøker jeg meg med. Jeg leser dokumentasjonen og kopiere fra eksempelet. \n",
    "<bt>\n",
    "Etter litt prøving og feiling så ser jeg at det er et problem å tilpasse dataene til dose=0 og sansynlighet = 0. Derfor tar jeg de vekk når jeg kurvetilpasser.\n"
   ]
  },
  {
   "cell_type": "code",
   "execution_count": 73,
   "metadata": {
    "collapsed": false
   },
   "outputs": [
    {
     "name": "stdout",
     "output_type": "stream",
     "text": [
      "[ 1.81426657  2.13255077]\n"
     ]
    },
    {
     "data": {
      "image/png": "[encoded data removed]",
      "text/plain": [
       "<matplotlib.figure.Figure at 0x2823ae17860>"
      ]
     },
     "metadata": {},
     "output_type": "display_data"
    }
   ],
   "source": [
    "z = np.polyfit(np.log(Dose[0:5]), pb[0:5], 1)\n",
    "z\n",
    "# her er z en array med koeffisientene til en rett linje. Den andre er konstanten mens den første er lieær koeffisienten\n",
    "# Hvis det hadde vært på formen y = ax + b så hadde array z vært z = [a,b]\n",
    "\n",
    "fit = z[1]+z[0]*np.log(Dose)\n",
    "print(z)\n",
    "\n",
    "plt.plot(np.log(Dose),pb,'bx');\n",
    "plt.plot(np.log(Dose),fit,'r-');\n",
    "plt.xlabel('ln(Dose)');\n",
    "plt.ylabel('Probit');\n",
    "plt.legend(('Forsøk','Lin. fit'));"
   ]
  },
  {
   "cell_type": "markdown",
   "metadata": {},
   "source": [
    "Når vi nå har kurvetilpasset dataene så ser vi at det er lett å fremstille dataene på kjent måte.\n",
    "\n",
    "\\begin{align}\n",
    "Y = k_1 + k_2 \\cdot ln(V)\\\\\n",
    "k_1 = 1.81 \\\\\n",
    "k_2 = 2.13\n",
    "\\end{align}"
   ]
  },
  {
   "cell_type": "code",
   "execution_count": null,
   "metadata": {
    "collapsed": true
   },
   "outputs": [],
   "source": []
  }
 ],
 "metadata": {
  "kernelspec": {
   "display_name": "Python [Root]",
   "language": "python",
   "name": "Python [Root]"
  },
  "language_info": {
   "codemirror_mode": {
    "name": "ipython",
    "version": 3
   },
   "file_extension": ".py",
   "mimetype": "text/x-python",
   "name": "python",
   "nbconvert_exporter": "python",
   "pygments_lexer": "ipython3",
   "version": "3.5.2"
  }
 },
 "nbformat": 4,
 "nbformat_minor": 0
}
