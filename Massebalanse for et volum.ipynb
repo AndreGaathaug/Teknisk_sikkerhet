{
 "cells": [
  {
   "cell_type": "markdown",
   "metadata": {},
   "source": [
    "# Hva er en massebalanse?\n",
    "\n",
    "Det er en beregning av hvordan massen endrer seg i et volum. Det er veldig anvendelig for å beskrive et system hvor massen endrer seg. Det kan være endringer i den totale massen eller endringer i konsentrasjon av ett stoff. Endringer i konsentrasjon kommer som regel på grunn av at massen til ett spesifikk stoff endrer seg i systemet."
   ]
  },
  {
   "cell_type": "markdown",
   "metadata": {},
   "source": [
    "# Hvordan kan vi sette opp en massebalanse?\n",
    "\n",
    "En massebalanse kan litt forenklet forklares ved at vi beskriver hvordan massen i et volum endrer seg ved at noe strømmer ut og noe strømmer inn i volumet.\n",
    "<bt>\n",
    "<bt>\n",
    "<center> **Endring av masse i volumet = massestrøm inn - massestrøm ut**</center>\n",
    "\n",
    "## Massen i volumet\n",
    "Dette kan beskrives på forskjellige måter, men den enkleste formen er:\n",
    "\n",
    "\\begin{align}\n",
    "m = \\rho V\n",
    "\\end{align}\n",
    "\n",
    "Det vi kommer til å benytte i en massebalanse er et uttrykk for hvordan massen i volumet endrer seg med tiden. Da ser vi på den tidsderiverte av massen\n",
    "\n",
    "\n",
    "\\begin{align}\n",
    "\\frac{dm}{dt} = \\frac{d}{dt}(\\rho V)\n",
    "\\end{align}\n",
    "\n",
    "Fra dette kan vi utvide for eksempel beskrivelsen av tettheten til å beskrive tettheten av et spesifikk stoff. Da kan vi multiplisere tettheten med en massefraksjon **x**\n",
    "\n",
    "\\begin{align}\n",
    "\\frac{dm_{stoff}}{dt} = \\frac{d}{dt}(x_{stoff} \\rho V)\n",
    "\\end{align}\n",
    "\n",
    "Ofte kan vi bruke $x_{stoff} \\rho = \\rho_{stoff}$. Da regner vi med en slags tetthet som beskriver masse av et stoff per volum $\\frac{m_{stoff}}{m^3}$\n",
    "<bt>\n",
    "Hvis vi kan anta at volumet ikke endrer seg med tiden så kan det regnes som konstant og da setter vi det på utsiden av den deriverte.\n",
    "\n",
    "\\begin{align}\n",
    "\\frac{d}{dt}(\\rho_{stoff} V) = V \\frac{d}{dt}(\\rho_{stoff})\n",
    "\\end{align}\n",
    "\n",
    "Andre ganger er vi opptatt av hvordan den totale massen endrer seg mens volumet også endre seg med tiden. Dette er ofte brukt når vi studerer væsker i beholdere. Da kan vi noen ganger anta at tettheten til væsken er konstant. Uttrykket for hvordan massen endrer seg med tiden er da gitt ved.\n",
    "\n",
    "\\begin{align}\n",
    "\\frac{d}{dt}m = \\rho \\frac{d}{dt}V\n",
    "\\end{align}\n",
    "\n",
    "Videre kan vi uttrykke volumet som en funksjon av en høyde ved at $V = A \\cdot h$. Dette kan være nyttig for å beskrive hvordan trykket i bunnen av en tank endrer seg med tiden. Trykket benyttes often også til å bestemme massestrømmen av fluider. Et eksempel på dette kommer seinere i kurset.\n",
    "\n",
    "\\begin{align}\n",
    "\\frac{d}{dt}m = \\rho A \\frac{d}{dt}h\n",
    "\\end{align}\n",
    "\n",
    "## Massestrøm inn\n",
    "\n",
    "Hvis volumet vi beskriver har en massestrømm av et fluid inn så må vi finne en korrekt beskrivelse av denne massestrømmen. Massestrømmen er en kilde til masse-endring og beskrives gjerne med det vi kaller kildemodeller. Flere detaljer om dette kommer seinere i kurset. Massestrømmen inn i volumet er ofte en funksjon av ett trykk og et utslippsareal.\n",
    "\n",
    "\\begin{align}\n",
    "\\dot m_{inn} = \\dot V_{inn} \\cdot \\rho = f(P,A,...) \n",
    "\\end{align}\n",
    "\n",
    "\n",
    "## Massestrøm ut\n",
    "\n",
    "På samme måte som massestrømmen inn så må vi finne en korrekt beskrivelse av en massestrøm ut. Det kommer flere detaljer om dette seinere i kurset. For ventilerte rom i bygninger er det gjerne en grei antagelse å si at konsentrasjonen av et stoff er lik i hele rommet og at massestrømmen er gitt ved en volumstrøm multiplisert med en tetthet.\n",
    "\n",
    "\\begin{align}\n",
    "\\dot m_{ut} = \\dot V_{ut} \\cdot \\rho \n",
    "\\end{align}\n",
    "\n",
    "Hvis vi studerer et spesifikk stoff kan vi utvide uttrykket over til: \n",
    "\n",
    "\\begin{align}\n",
    "\\dot m_{ut,stoff} = \\dot V_{ut} \\cdot \\rho_{stoff} \n",
    "\\end{align}\n",
    "\n",
    "Volumstrømm er gitt ved et areal multiplisert med en hastighet\n",
    "\n",
    "\\begin{align}\n",
    "\\dot V_{ut} = u_{ut} \\cdot A_{utløp}\n",
    "\\end{align}\n",
    "\n",
    "\n",
    "## Totale massebalansen\n",
    "\n",
    "Hvis vi setter alle de tre uttrykkene sammen vil vi få et uttrykk for massebalansen. Nå uttrykker vi det på en form hvor vi ser på tettheten av ett stoff\n",
    "\n",
    "\\begin{align}\n",
    "\\frac{d}{dt}\\rho_{stoff} V = \\dot m_{inn,stoff} - \\dot m_{ut,stoff} \\\\\n",
    "\\frac{d}{dt}\\rho_{stoff} = \\frac{1}{V} \\left( \\dot m_{inn,stoff} - \\dot V_{ut} \\rho_{stoff} \\right)\n",
    "\\end{align}\n",
    "\n",
    "Nå tar vi med oss denne massebalansen og bruker den til å beregne hvordan konsentrasjonen av CO endrer seg i et rom."
   ]
  },
  {
   "cell_type": "markdown",
   "metadata": {
    "collapsed": true
   },
   "source": [
    "# Oppsett for beregningene\n",
    "\n",
    "\n",
    "Nå skal vi se på et rom i en bygning. Volumet er $1000 m³$. Det er ventilasjon som bytter ut luften i rommet. All luften byttes ut $N_t$ ganger per time. Ved et gitt tidspunkt oppstår det en lekasje av CO. Massestrømmen av CO er gitt ved $m_t$. \n",
    "<bt>\n",
    "Beregningene starter som vanlig ved at vi henter inn noen pakker som vi pleier å bruke. HVis vi trenger flere så legger vi de til etterhvert som vi jobber oss gjennom problemet."
   ]
  },
  {
   "cell_type": "code",
   "execution_count": 18,
   "metadata": {},
   "outputs": [],
   "source": [
    "%matplotlib inline\n",
    "import numpy as np\n",
    "import matplotlib.pyplot as plt"
   ]
  },
  {
   "cell_type": "markdown",
   "metadata": {},
   "source": [
    "\n",
    "Så lager vi en funksjon som gir $\\frac{d}{dt}\\rho_{CO}$ som utput. Denne trenger vi til løseren vår."
   ]
  },
  {
   "cell_type": "code",
   "execution_count": 19,
   "metadata": {},
   "outputs": [],
   "source": [
    "def drCOdt(rCO):\n",
    "    \"\"\"\n",
    "    rCO har enheten kg/m³\n",
    "    m_t har enheter kg/s\n",
    "    Q_v er volumstrømmen ut gitt i m³/s\n",
    "    \"\"\"\n",
    "    drCOdt = 1/Vh*(m_t - Q_v*rCO)\n",
    "    return drCOdt"
   ]
  },
  {
   "cell_type": "raw",
   "metadata": {},
   "source": [
    "Så lager vi litt input til denne casen. Det er godt skikk å definere det i en egen seksjon."
   ]
  },
  {
   "cell_type": "code",
   "execution_count": 20,
   "metadata": {},
   "outputs": [],
   "source": [
    "Nt = 2  #antall husvolum per time\n",
    "Vh = 1000 #husvolumet m³\n",
    "m_t= 1e-5 #massestrøm av CO kg/s\n",
    "\n",
    "Q_v = Vh * Nt/3600  #Volumstrøm ut m³/s\n"
   ]
  },
  {
   "cell_type": "markdown",
   "metadata": {},
   "source": [
    "Nå fortsetter vi med å kopiere inn en vanlig løser for differentialligninger. Her bruker vi en forward Euler som er kopiert fra fysikk forelesningene."
   ]
  },
  {
   "cell_type": "code",
   "execution_count": 21,
   "metadata": {},
   "outputs": [],
   "source": [
    "a = 0; b = 12000; #tidsinterval\n",
    "n = 1000  #antall tidssteg\n",
    "dt = float(b-a)/n  #størrelsen på et tidssteg\n",
    "rCO0 = 0  #initial konsentrasjon\n",
    "\n",
    "rCOc = np.zeros(n+1)\n",
    "Dose = np.zeros(n+1)\n",
    "Probit = np.zeros(n+1)\n",
    "rCOc[0] = rCO0\n",
    "Dose[0] = 0\n",
    "\n",
    "# Forward Euler\n",
    "for i in range(0,len(rCOc)-1):\n",
    "    #print(i)\n",
    "    rCOc[i+1] = rCOc[i] + dt * drCOdt(rCOc[i])"
   ]
  },
  {
   "cell_type": "markdown",
   "metadata": {},
   "source": [
    "Nå kan vi fremmestille resultatene i et plot. Starter med å lage en vektor med tidspunktene. Videre lager vi et plot."
   ]
  },
  {
   "cell_type": "code",
   "execution_count": 22,
   "metadata": {},
   "outputs": [
    {
     "data": {
      "image/png": "[encoded data removed]",
      "text/plain": [
       "<matplotlib.figure.Figure at 0x7f4fd01b2278>"
      ]
     },
     "metadata": {},
     "output_type": "display_data"
    }
   ],
   "source": [
    "time = np.linspace(a,b,n+1)\n",
    "\n",
    "plt.figure(1)\n",
    "plt.clf()\n",
    "plt.plot(time,rCOc*1e6)\n",
    "plt.xlabel('tid [s]');\n",
    "plt.ylabel('Konsentrasjon [mg/m³]');"
   ]
  },
  {
   "cell_type": "markdown",
   "metadata": {},
   "source": [
    "Til å beregne konsekvensen av dette så trenger vi dosen, som er integralet at konsentrasjonen (opphøyd i en eksponent) over tid. Vi bruker data for CO og funksjonen som kummulativt summerer. Da får vi hvordan dosen endrer seg over tid. Det er forutsatt at personen som opplever denne dosen er inne i rommet helt fra starten av utslippet.\n",
    "<bt>\n",
    "Må gi noen innput til beregningene slik at de stemmer med hvordan dosen er beskrevet i litteraturen."
   ]
  },
  {
   "cell_type": "code",
   "execution_count": 23,
   "metadata": {},
   "outputs": [],
   "source": [
    "l  = 1 # eksponenten\n",
    "Mw = 28e-3 #molmassen CO kg/mol\n",
    "Rg = 8.314/Mw #gaskonstanten CO J/kg/K\n",
    "T  = 300  #Temp K\n",
    "p  = 101325  #Trykk Pa\n",
    "C_ppm = rCOc*Rg*T/(p*Mw)*10**6\n",
    "\n",
    "Dose=np.cumsum(C_ppm**l*dt/60)"
   ]
  },
  {
   "cell_type": "markdown",
   "metadata": {},
   "source": [
    "Da kan vi fortsette og plotte dette for å se resultatet\n"
   ]
  },
  {
   "cell_type": "code",
   "execution_count": 24,
   "metadata": {},
   "outputs": [
    {
     "data": {
      "image/png": "[encoded data removed]",
      "text/plain": [
       "<matplotlib.figure.Figure at 0x7f4fd01397f0>"
      ]
     },
     "metadata": {},
     "output_type": "display_data"
    },
    {
     "data": {
      "image/png": "[encoded data removed]",
      "text/plain": [
       "<matplotlib.figure.Figure at 0x7f4fd018c390>"
      ]
     },
     "metadata": {},
     "output_type": "display_data"
    }
   ],
   "source": [
    "plt.figure(2)\n",
    "plt.clf()\n",
    "plt.plot(time/3600,C_ppm,'b-')\n",
    "plt.xlabel('t [timer]')\n",
    "plt.ylabel('Konsentrasjon [ppm]')\n",
    "\n",
    "plt.figure(3)\n",
    "plt.clf()\n",
    "plt.plot(time/3600,Dose,'b-')\n",
    "plt.xlabel('t [timer]');\n",
    "plt.ylabel('Dose [ppm*t]');"
   ]
  },
  {
   "cell_type": "markdown",
   "metadata": {},
   "source": [
    "Hvis vi regner ut et probit-verdi fra denne dosen så får vi et tall på hvor farlig dette er. Vi kan gjøre det rett om til en sansynlighet slik at vi kan bestemme den maksimale oppholdstiden i dette rommet.\n",
    "<bt>\n",
    "Probit-verdien vil endre seg over tiden siden dosen endrer seg over tid. Vi må hente inn funksjonen fra tidligere hvor vi regner om fra probit til prosent sansynlighet"
   ]
  },
  {
   "cell_type": "code",
   "execution_count": 25,
   "metadata": {},
   "outputs": [],
   "source": [
    "def Probit2Prob(k1,k2,V):\n",
    "    \"\"\"\n",
    "    Denne funksjonen beregner sansynlighet basert på gitte probitparametere \n",
    "    k1 og k2 samt dosen V. Pass på å bruke riktig enhet på dosen.\n",
    "    \"\"\"\n",
    "\n",
    "    import numpy as np\n",
    "    import math\n",
    "\n",
    "    Y = k1 + k2 *np.log(V);\n",
    "    \n",
    "    P = 50.0*(1 + math.erf((Y-5)/np.sqrt(2)) )\n",
    "\n",
    "    return P"
   ]
  },
  {
   "cell_type": "markdown",
   "metadata": {},
   "source": [
    "Starter med å gi noen input til beregningene. Probit koeffisientene må gis, og så regner vi oss gjennom hele vektoren med dosene."
   ]
  },
  {
   "cell_type": "code",
   "execution_count": 26,
   "metadata": {},
   "outputs": [
    {
     "data": {
      "image/png": "[encoded data removed]",
      "text/plain": [
       "<matplotlib.figure.Figure at 0x7f4fd0101b00>"
      ]
     },
     "metadata": {},
     "output_type": "display_data"
    }
   ],
   "source": [
    "k1 = -37.98\n",
    "k2 = 3.7\n",
    "P  = np.zeros(len(Dose))\n",
    "for j in range (1,len(Dose)):\n",
    "    P[j] = Probit2Prob(k1,k2,Dose[j])\n",
    "    \n",
    "plt.figure(5)\n",
    "plt.clf()\n",
    "plt.plot(time/3600,P,'b-')\n",
    "plt.xlabel('tid [timer]');\n",
    "plt.ylabel('Sansynlighet [%]');"
   ]
  },
  {
   "cell_type": "code",
   "execution_count": null,
   "metadata": {},
   "outputs": [],
   "source": []
  }
 ],
 "metadata": {
  "kernelspec": {
   "display_name": "Python 3",
   "language": "python",
   "name": "python3"
  },
  "language_info": {
   "codemirror_mode": {
    "name": "ipython",
    "version": 3
   },
   "file_extension": ".py",
   "mimetype": "text/x-python",
   "name": "python",
   "nbconvert_exporter": "python",
   "pygments_lexer": "ipython3",
   "version": "3.6.4"
  }
 },
 "nbformat": 4,
 "nbformat_minor": 1
}
